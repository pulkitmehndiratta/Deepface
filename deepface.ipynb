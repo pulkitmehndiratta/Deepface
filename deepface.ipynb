!pip install deepface


from deepface import DeepFace
import cv2
import matplotlib.pyplot as plt
from google.colab import files

uploading = files.upload()

check_img = cv2.imread("Capture_1.JPG")
plt.figure(figsize = (6,6))
plt.imshow(check_img[:,:,::-1])

analyze_img = DeepFace.analyze(check_img)

analyze_img
